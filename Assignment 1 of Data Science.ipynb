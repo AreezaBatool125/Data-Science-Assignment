{
 "cells": [
  {
   "cell_type": "code",
   "execution_count": 1,
   "id": "4f891416",
   "metadata": {},
   "outputs": [
    {
     "name": "stdout",
     "output_type": "stream",
     "text": [
      "Twinkle, twinkle, little star, \n",
      "\tHow I wonder what you are! \n",
      "\t\tUp above the world so high, \n",
      "\t\tLike a diamond in the sky. \n",
      "Twinkle, twinkle, little star, \n",
      "\tHow I wonder what you are!\n"
     ]
    }
   ],
   "source": [
    "#Write a Python program to print the following string in a specific format (see the output)\n",
    "# Twinkle, twinkle, little star,\n",
    "#     How I wonder what you are! \n",
    "#         Up above the world so high,\n",
    "#         Like a diamond in the sky. \n",
    "# Twinkle, twinkle, little star, \n",
    "#     How I wonder what you are\n",
    "print(\"Twinkle, twinkle, little star, \\n\\tHow I wonder what you are! \\n\\t\\tUp above the world so high, \\n\\t\\tLike a diamond in the sky. \\nTwinkle, twinkle, little star, \\n\\tHow I wonder what you are!\"); "
   ]
  },
  {
   "cell_type": "code",
   "execution_count": 2,
   "id": "074dcce6",
   "metadata": {},
   "outputs": [
    {
     "name": "stdout",
     "output_type": "stream",
     "text": [
      "3.8.8 (default, Apr 13 2021, 15:08:03) [MSC v.1916 64 bit (AMD64)]\n"
     ]
    }
   ],
   "source": [
    "#Write a Python program to get a python version you are using\n",
    "\n",
    "import sys\n",
    "print(sys.version);"
   ]
  },
  {
   "cell_type": "code",
   "execution_count": 3,
   "id": "caf7a844",
   "metadata": {},
   "outputs": [
    {
     "name": "stdout",
     "output_type": "stream",
     "text": [
      "now = 2021-12-30 21:20:16.318614\n",
      "date and time = 30/12/2021 21:20:16\n"
     ]
    }
   ],
   "source": [
    "#Write a python program to display the current date & time\n",
    "\n",
    "from datetime import datetime\n",
    "\n",
    "# datetime object containing current date and time\n",
    "now = datetime.now()\n",
    " \n",
    "print(\"now =\", now);\n",
    "\n",
    "# dd/mm/YY H:M:S\n",
    "dt_string = now.strftime(\"%d/%m/%Y %H:%M:%S\")\n",
    "print(\"date and time =\", dt_string);"
   ]
  },
  {
   "cell_type": "code",
   "execution_count": 4,
   "id": "45401835",
   "metadata": {},
   "outputs": [
    {
     "name": "stdout",
     "output_type": "stream",
     "text": [
      "Input the radius of the circle : 1.2\n",
      "Area of the circle with radius 1.2 is: 4.523893421169302\n"
     ]
    }
   ],
   "source": [
    "#Write a Python program which accepts the radius of a circle from the user and compute the area.\n",
    "\n",
    "from math import pi\n",
    "r = float(input (\"Input the radius of the circle : \"))\n",
    "print (\"Area of the circle with radius \" + str(r) + \" is: \" + str(pi * r**2));"
   ]
  },
  {
   "cell_type": "code",
   "execution_count": 5,
   "id": "af8d6e68",
   "metadata": {},
   "outputs": [
    {
     "name": "stdout",
     "output_type": "stream",
     "text": [
      "Input your First Name : Areeza \n",
      "Input your Last Name : Batool\n",
      "Batool Areeza \n"
     ]
    }
   ],
   "source": [
    "#Write a Python program which accepts the user’s first and last name and print them in reverse order with a space between them.\n",
    "First_Name = input(\"Input your First Name : \")\n",
    "Last_Name = input(\"Input your Last Name : \")\n",
    "print (Last_Name + \" \" + First_Name);"
   ]
  },
  {
   "cell_type": "code",
   "execution_count": 6,
   "id": "61b0e91c",
   "metadata": {},
   "outputs": [
    {
     "name": "stdout",
     "output_type": "stream",
     "text": [
      "Enter First Number : 45\n",
      "Enter Second Number : 25\n",
      "The sum of 45 & 25 is 70\n"
     ]
    }
   ],
   "source": [
    "#Write a Python program which takes two inputs from user and print them addition.\n",
    "a=int(input(\"Enter First Number : \"))\n",
    "b=int(input(\"Enter Second Number : \"))\n",
    "print(\"The sum of\",a, \"&\",b,\"is\",a+b);"
   ]
  },
  {
   "cell_type": "code",
   "execution_count": null,
   "id": "a083df7d",
   "metadata": {},
   "outputs": [],
   "source": []
  }
 ],
 "metadata": {
  "kernelspec": {
   "display_name": "Python 3",
   "language": "python",
   "name": "python3"
  },
  "language_info": {
   "codemirror_mode": {
    "name": "ipython",
    "version": 3
   },
   "file_extension": ".py",
   "mimetype": "text/x-python",
   "name": "python",
   "nbconvert_exporter": "python",
   "pygments_lexer": "ipython3",
   "version": "3.8.8"
  }
 },
 "nbformat": 4,
 "nbformat_minor": 5
}
